{
  "nbformat": 4,
  "nbformat_minor": 0,
  "metadata": {
    "colab": {
      "name": "scratch_lab02.ipynb",
      "provenance": [],
      "collapsed_sections": [],
      "authorship_tag": "ABX9TyNY7ZasUGlMda2/2XnoOaZn",
      "include_colab_link": true
    },
    "kernelspec": {
      "name": "python3",
      "display_name": "Python 3"
    }
  },
  "cells": [
    {
      "cell_type": "markdown",
      "metadata": {
        "id": "view-in-github",
        "colab_type": "text"
      },
      "source": [
        "<a href=\"https://colab.research.google.com/github/scottspurlock/Google_Colab_Start/blob/master/scratch_lab02.ipynb\" target=\"_parent\"><img src=\"https://colab.research.google.com/assets/colab-badge.svg\" alt=\"Open In Colab\"/></a>"
      ]
    },
    {
      "cell_type": "markdown",
      "metadata": {
        "id": "OvC84NVl6TGf"
      },
      "source": [
        ""
      ]
    },
    {
      "cell_type": "markdown",
      "metadata": {
        "id": "JOgnyMCl6d1w"
      },
      "source": [
        "# Working with files\n",
        "When you start up a new Colab instance, you get a certain amount of space for files. Any files needed by your code should be added to this special directory. (Click the folder icon in the left menu to see what's there. Just a folder called sample_data to start.) These files are not saved between sessions, so they need to be downloaded each time you connect to Colab. The easiest way to do this is to use wget, which is a shell command that downloads files from a URL. The -O switch can be used to specify an name for the file.\n",
        "\n",
        "## Files shared from Google Drive\n",
        "If you are downloading a file shared in Google Drive, you may have a link like this:\n",
        "https://drive.google.com/file/d/1LyfxvbvXNS6Tdd6q4ABlGJ7pLEqhCQBO\n",
        "\n",
        "However, this link will get an html file, even if the underlying file is actually data, like csv.\n",
        "\n",
        "You can get the actual file by pasting the file ID into this URL: https://drive.google.com/uc?export=download&id=XXXX\n",
        "\n",
        "For example: https://drive.google.com/uc?export=download&id=1LyfxvbvXNS6Tdd6q4ABlGJ7pLEqhCQBO\n",
        "\n",
        "The cell below shows an example of downloading a csv file and saving it as lab02_populations.csv\n",
        "\n"
      ]
    },
    {
      "cell_type": "code",
      "metadata": {
        "colab": {
          "base_uri": "https://localhost:8080/"
        },
        "id": "VNxOYBCz6Pix",
        "outputId": "6cde3fef-994b-4495-f512-fe7bc7e03f2b"
      },
      "source": [
        "# Download the input file\n",
        "!wget -O lab02_populations.csv \"https://drive.google.com/uc?export=download&id=1LyfxvbvXNS6Tdd6q4ABlGJ7pLEqhCQBO\"\n"
      ],
      "execution_count": 1,
      "outputs": [
        {
          "output_type": "stream",
          "text": [
            "--2021-01-03 19:45:27--  https://drive.google.com/uc?export=download&id=1LyfxvbvXNS6Tdd6q4ABlGJ7pLEqhCQBO\n",
            "Resolving drive.google.com (drive.google.com)... 74.125.31.100, 74.125.31.101, 74.125.31.113, ...\n",
            "Connecting to drive.google.com (drive.google.com)|74.125.31.100|:443... connected.\n",
            "HTTP request sent, awaiting response... 302 Moved Temporarily\n",
            "Location: https://doc-0o-9s-docs.googleusercontent.com/docs/securesc/ha0ro937gcuc7l7deffksulhg5h7mbp1/fes1v834m94o6p9m595rut0oc3d02qqs/1609703100000/10030589818980776592/*/1LyfxvbvXNS6Tdd6q4ABlGJ7pLEqhCQBO?e=download [following]\n",
            "Warning: wildcards not supported in HTTP.\n",
            "--2021-01-03 19:45:27--  https://doc-0o-9s-docs.googleusercontent.com/docs/securesc/ha0ro937gcuc7l7deffksulhg5h7mbp1/fes1v834m94o6p9m595rut0oc3d02qqs/1609703100000/10030589818980776592/*/1LyfxvbvXNS6Tdd6q4ABlGJ7pLEqhCQBO?e=download\n",
            "Resolving doc-0o-9s-docs.googleusercontent.com (doc-0o-9s-docs.googleusercontent.com)... 172.217.204.132, 2607:f8b0:400c:c15::84\n",
            "Connecting to doc-0o-9s-docs.googleusercontent.com (doc-0o-9s-docs.googleusercontent.com)|172.217.204.132|:443... connected.\n",
            "HTTP request sent, awaiting response... 200 OK\n",
            "Length: 556 [text/plain]\n",
            "Saving to: ‘lab02_populations.csv’\n",
            "\n",
            "lab02_populations.c 100%[===================>]     556  --.-KB/s    in 0s      \n",
            "\n",
            "2021-01-03 19:45:28 (22.5 MB/s) - ‘lab02_populations.csv’ saved [556/556]\n",
            "\n"
          ],
          "name": "stdout"
        }
      ]
    },
    {
      "cell_type": "code",
      "metadata": {
        "colab": {
          "base_uri": "https://localhost:8080/"
        },
        "id": "GfV-obCH6inS",
        "outputId": "50aac549-a6d8-4a31-f501-973139cd3a7f"
      },
      "source": [
        "import numpy as np\n",
        "%precision %.2f\n",
        "\n",
        "# Load the file into a numpy array, skipping the first (header) row.\n",
        "poptable = np.loadtxt('lab02_populations.csv', skiprows=1, delimiter=',', dtype=int)\n",
        "\n",
        "# remove duplicate rows and row with bad data\n",
        "poptable = np.delete(poptable, (11, 12, 23), axis=0)\n",
        "print(poptable)\n",
        "\n",
        "# This shows the year, number of hares, number of lynxes, and number of carrots"
      ],
      "execution_count": 2,
      "outputs": [
        {
          "output_type": "stream",
          "text": [
            "[[ 1900 30000  4000 48300]\n",
            " [ 1901 47200  6100 48200]\n",
            " [ 1902 70200  9800 41500]\n",
            " [ 1903 77400 35200 38200]\n",
            " [ 1904 36300 59400 40600]\n",
            " [ 1905 20600 41700 39800]\n",
            " [ 1906 18100 19000 38600]\n",
            " [ 1907 21400 13000 42300]\n",
            " [ 1908 22000  8300 44500]\n",
            " [ 1909 25400  9100 42100]\n",
            " [ 1910 27100  7400 46000]\n",
            " [ 1911 40300  8000 46800]\n",
            " [ 1912 57000 12300 43800]\n",
            " [ 1913 76600 19500 40900]\n",
            " [ 1914 52300 45700 39400]\n",
            " [ 1915 19500 51100 39000]\n",
            " [ 1916 11200 29700 36700]\n",
            " [ 1917  7600 15800 41800]\n",
            " [ 1918 14600  9700 43300]\n",
            " [ 1919 16200 10100 41300]\n",
            " [ 1920 24700  8600 47300]]\n"
          ],
          "name": "stdout"
        }
      ]
    },
    {
      "cell_type": "markdown",
      "metadata": {
        "id": "LN6Rf8zffHgj"
      },
      "source": [
        "## Option 2: Map Google Drive\n",
        "You can click the Mount Drive button on the left or mount the drive programmatically."
      ]
    },
    {
      "cell_type": "code",
      "metadata": {
        "colab": {
          "base_uri": "https://localhost:8080/"
        },
        "id": "NbvgBlZ67KFl",
        "outputId": "0890e9d4-dd57-4e21-9dab-55fd39857be2"
      },
      "source": [
        "from google.colab import drive\n",
        "drive.mount('/content/drive')"
      ],
      "execution_count": 3,
      "outputs": [
        {
          "output_type": "stream",
          "text": [
            "Drive already mounted at /content/drive; to attempt to forcibly remount, call drive.mount(\"/content/drive\", force_remount=True).\n"
          ],
          "name": "stdout"
        }
      ]
    },
    {
      "cell_type": "code",
      "metadata": {
        "colab": {
          "base_uri": "https://localhost:8080/",
          "height": 793
        },
        "id": "UwWB6fm6f6Ib",
        "outputId": "7179ba29-7a0c-4204-eb44-1a69c903bb34"
      },
      "source": [
        "import pandas as pd\n",
        "pd.read_csv('/content/drive/MyDrive/Teaching/CSC 401 Data Mining and Machine Learning/2020 Spring/labs/lab02_populations.csv')\n"
      ],
      "execution_count": 4,
      "outputs": [
        {
          "output_type": "execute_result",
          "data": {
            "text/html": [
              "<div>\n",
              "<style scoped>\n",
              "    .dataframe tbody tr th:only-of-type {\n",
              "        vertical-align: middle;\n",
              "    }\n",
              "\n",
              "    .dataframe tbody tr th {\n",
              "        vertical-align: top;\n",
              "    }\n",
              "\n",
              "    .dataframe thead th {\n",
              "        text-align: right;\n",
              "    }\n",
              "</style>\n",
              "<table border=\"1\" class=\"dataframe\">\n",
              "  <thead>\n",
              "    <tr style=\"text-align: right;\">\n",
              "      <th></th>\n",
              "      <th>year</th>\n",
              "      <th>hare</th>\n",
              "      <th>lynx</th>\n",
              "      <th>carrot</th>\n",
              "    </tr>\n",
              "  </thead>\n",
              "  <tbody>\n",
              "    <tr>\n",
              "      <th>0</th>\n",
              "      <td>1900</td>\n",
              "      <td>30000</td>\n",
              "      <td>4000</td>\n",
              "      <td>48300</td>\n",
              "    </tr>\n",
              "    <tr>\n",
              "      <th>1</th>\n",
              "      <td>1901</td>\n",
              "      <td>47200</td>\n",
              "      <td>6100</td>\n",
              "      <td>48200</td>\n",
              "    </tr>\n",
              "    <tr>\n",
              "      <th>2</th>\n",
              "      <td>1902</td>\n",
              "      <td>70200</td>\n",
              "      <td>9800</td>\n",
              "      <td>41500</td>\n",
              "    </tr>\n",
              "    <tr>\n",
              "      <th>3</th>\n",
              "      <td>1903</td>\n",
              "      <td>77400</td>\n",
              "      <td>35200</td>\n",
              "      <td>38200</td>\n",
              "    </tr>\n",
              "    <tr>\n",
              "      <th>4</th>\n",
              "      <td>1904</td>\n",
              "      <td>36300</td>\n",
              "      <td>59400</td>\n",
              "      <td>40600</td>\n",
              "    </tr>\n",
              "    <tr>\n",
              "      <th>5</th>\n",
              "      <td>1905</td>\n",
              "      <td>20600</td>\n",
              "      <td>41700</td>\n",
              "      <td>39800</td>\n",
              "    </tr>\n",
              "    <tr>\n",
              "      <th>6</th>\n",
              "      <td>1906</td>\n",
              "      <td>18100</td>\n",
              "      <td>19000</td>\n",
              "      <td>38600</td>\n",
              "    </tr>\n",
              "    <tr>\n",
              "      <th>7</th>\n",
              "      <td>1907</td>\n",
              "      <td>21400</td>\n",
              "      <td>13000</td>\n",
              "      <td>42300</td>\n",
              "    </tr>\n",
              "    <tr>\n",
              "      <th>8</th>\n",
              "      <td>1908</td>\n",
              "      <td>22000</td>\n",
              "      <td>8300</td>\n",
              "      <td>44500</td>\n",
              "    </tr>\n",
              "    <tr>\n",
              "      <th>9</th>\n",
              "      <td>1909</td>\n",
              "      <td>25400</td>\n",
              "      <td>9100</td>\n",
              "      <td>42100</td>\n",
              "    </tr>\n",
              "    <tr>\n",
              "      <th>10</th>\n",
              "      <td>1910</td>\n",
              "      <td>27100</td>\n",
              "      <td>7400</td>\n",
              "      <td>46000</td>\n",
              "    </tr>\n",
              "    <tr>\n",
              "      <th>11</th>\n",
              "      <td>1910</td>\n",
              "      <td>27100</td>\n",
              "      <td>7400</td>\n",
              "      <td>46000</td>\n",
              "    </tr>\n",
              "    <tr>\n",
              "      <th>12</th>\n",
              "      <td>1910</td>\n",
              "      <td>27100</td>\n",
              "      <td>7400</td>\n",
              "      <td>46000</td>\n",
              "    </tr>\n",
              "    <tr>\n",
              "      <th>13</th>\n",
              "      <td>1911</td>\n",
              "      <td>40300</td>\n",
              "      <td>8000</td>\n",
              "      <td>46800</td>\n",
              "    </tr>\n",
              "    <tr>\n",
              "      <th>14</th>\n",
              "      <td>1912</td>\n",
              "      <td>57000</td>\n",
              "      <td>12300</td>\n",
              "      <td>43800</td>\n",
              "    </tr>\n",
              "    <tr>\n",
              "      <th>15</th>\n",
              "      <td>1913</td>\n",
              "      <td>76600</td>\n",
              "      <td>19500</td>\n",
              "      <td>40900</td>\n",
              "    </tr>\n",
              "    <tr>\n",
              "      <th>16</th>\n",
              "      <td>1914</td>\n",
              "      <td>52300</td>\n",
              "      <td>45700</td>\n",
              "      <td>39400</td>\n",
              "    </tr>\n",
              "    <tr>\n",
              "      <th>17</th>\n",
              "      <td>1915</td>\n",
              "      <td>19500</td>\n",
              "      <td>51100</td>\n",
              "      <td>39000</td>\n",
              "    </tr>\n",
              "    <tr>\n",
              "      <th>18</th>\n",
              "      <td>1916</td>\n",
              "      <td>11200</td>\n",
              "      <td>29700</td>\n",
              "      <td>36700</td>\n",
              "    </tr>\n",
              "    <tr>\n",
              "      <th>19</th>\n",
              "      <td>1917</td>\n",
              "      <td>7600</td>\n",
              "      <td>15800</td>\n",
              "      <td>41800</td>\n",
              "    </tr>\n",
              "    <tr>\n",
              "      <th>20</th>\n",
              "      <td>1918</td>\n",
              "      <td>14600</td>\n",
              "      <td>9700</td>\n",
              "      <td>43300</td>\n",
              "    </tr>\n",
              "    <tr>\n",
              "      <th>21</th>\n",
              "      <td>1919</td>\n",
              "      <td>16200</td>\n",
              "      <td>10100</td>\n",
              "      <td>41300</td>\n",
              "    </tr>\n",
              "    <tr>\n",
              "      <th>22</th>\n",
              "      <td>1920</td>\n",
              "      <td>24700</td>\n",
              "      <td>8600</td>\n",
              "      <td>47300</td>\n",
              "    </tr>\n",
              "    <tr>\n",
              "      <th>23</th>\n",
              "      <td>1921</td>\n",
              "      <td>-1</td>\n",
              "      <td>-1</td>\n",
              "      <td>45200</td>\n",
              "    </tr>\n",
              "  </tbody>\n",
              "</table>\n",
              "</div>"
            ],
            "text/plain": [
              "    year   hare   lynx  carrot\n",
              "0   1900  30000   4000   48300\n",
              "1   1901  47200   6100   48200\n",
              "2   1902  70200   9800   41500\n",
              "3   1903  77400  35200   38200\n",
              "4   1904  36300  59400   40600\n",
              "5   1905  20600  41700   39800\n",
              "6   1906  18100  19000   38600\n",
              "7   1907  21400  13000   42300\n",
              "8   1908  22000   8300   44500\n",
              "9   1909  25400   9100   42100\n",
              "10  1910  27100   7400   46000\n",
              "11  1910  27100   7400   46000\n",
              "12  1910  27100   7400   46000\n",
              "13  1911  40300   8000   46800\n",
              "14  1912  57000  12300   43800\n",
              "15  1913  76600  19500   40900\n",
              "16  1914  52300  45700   39400\n",
              "17  1915  19500  51100   39000\n",
              "18  1916  11200  29700   36700\n",
              "19  1917   7600  15800   41800\n",
              "20  1918  14600   9700   43300\n",
              "21  1919  16200  10100   41300\n",
              "22  1920  24700   8600   47300\n",
              "23  1921     -1     -1   45200"
            ]
          },
          "metadata": {
            "tags": []
          },
          "execution_count": 4
        }
      ]
    },
    {
      "cell_type": "markdown",
      "metadata": {
        "id": "digZzsojy_RO"
      },
      "source": [
        "## This is an update after the first commit to GitHub."
      ]
    },
    {
      "cell_type": "code",
      "metadata": {
        "colab": {
          "base_uri": "https://localhost:8080/",
          "height": 265
        },
        "id": "k9OeIDIbgRgM",
        "outputId": "b45d6f74-3928-42ba-d3bb-366d32d24ff6"
      },
      "source": [
        "import matplotlib.pyplot as plt\n",
        "\n",
        "x = np.arange(-5, 5, 0.1)\n",
        "y = np.sin(x)\n",
        "plt.plot(x, y, 'g:')\n",
        "plt.show()"
      ],
      "execution_count": 14,
      "outputs": [
        {
          "output_type": "display_data",
          "data": {
            "image/png": "[encoded data removed]",
            "text/plain": [
              "<Figure size 432x288 with 1 Axes>"
            ]
          },
          "metadata": {
            "tags": [],
            "needs_background": "light"
          }
        }
      ]
    },
    {
      "cell_type": "code",
      "metadata": {
        "id": "6FbPOvtEzW62"
      },
      "source": [
        ""
      ],
      "execution_count": null,
      "outputs": []
    }
  ]
}