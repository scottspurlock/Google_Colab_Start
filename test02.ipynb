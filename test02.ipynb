{
  "nbformat": 4,
  "nbformat_minor": 0,
  "metadata": {
    "colab": {
      "name": "test02",
      "provenance": [],
      "toc_visible": true,
      "authorship_tag": "ABX9TyNNwjIXP85RgQrDymFQjPWH",
      "include_colab_link": true
    },
    "kernelspec": {
      "name": "python3",
      "display_name": "Python 3"
    }
  },
  "cells": [
    {
      "cell_type": "markdown",
      "metadata": {
        "id": "view-in-github",
        "colab_type": "text"
      },
      "source": [
        "<a href=\"https://colab.research.google.com/github/scottspurlock/Google_Colab_Start/blob/master/test02.ipynb\" target=\"_parent\"><img src=\"https://colab.research.google.com/assets/colab-badge.svg\" alt=\"Open In Colab\"/></a>"
      ]
    },
    {
      "cell_type": "markdown",
      "metadata": {
        "id": "crliKVdGIycJ",
        "colab_type": "text"
      },
      "source": [
        "# This is a test of Google Colab notebooks.\n",
        "Just navigate to https://colab.research.google.com/ and create a new notebook. Notebooks get saved to your Google Drive. You can see them by mounting your Google Drive under the files in the left menu.\n",
        "\n"
      ]
    },
    {
      "cell_type": "code",
      "metadata": {
        "id": "AP8ZkGwbItcq",
        "colab_type": "code",
        "colab": {}
      },
      "source": [
        "import numpy as np\n",
        "import matplotlib.pyplot as plt\n",
        "import pandas as pd\n",
        "import cv2\n",
        "import nltk\n",
        "import tensorflow as tf\n"
      ],
      "execution_count": 0,
      "outputs": []
    },
    {
      "cell_type": "markdown",
      "metadata": {
        "id": "yUlDqoPfONUY",
        "colab_type": "text"
      },
      "source": [
        ""
      ]
    },
    {
      "cell_type": "code",
      "metadata": {
        "id": "HazoI52cI5IJ",
        "colab_type": "code",
        "outputId": "bbc3baa3-a047-4da8-a8d7-354be98aedb0",
        "colab": {
          "base_uri": "https://localhost:8080/",
          "height": 34
        }
      },
      "source": [
        "tf.__version__"
      ],
      "execution_count": 4,
      "outputs": [
        {
          "output_type": "execute_result",
          "data": {
            "text/plain": [
              "'2.0.0'"
            ]
          },
          "metadata": {
            "tags": []
          },
          "execution_count": 4
        }
      ]
    },
    {
      "cell_type": "code",
      "metadata": {
        "id": "1VHOmQ4JJH25",
        "colab_type": "code",
        "colab": {}
      },
      "source": [
        "# If Tensorflow is not version 2, we need to uninstall and reinstall.\n",
        "# (Fortunately the install command does both.)\n",
        "# https://www.roseindia.net/tensorflow/tensorflow2/install-tensorflow-2.0-in-colab.shtml\n",
        "\n",
        "#!pip install tensorflow==2.0.0\n",
        "\n"
      ],
      "execution_count": 0,
      "outputs": []
    },
    {
      "cell_type": "code",
      "metadata": {
        "id": "E_JfyZSBJP6a",
        "colab_type": "code",
        "colab": {}
      },
      "source": [
        ""
      ],
      "execution_count": 0,
      "outputs": []
    }
  ]
}